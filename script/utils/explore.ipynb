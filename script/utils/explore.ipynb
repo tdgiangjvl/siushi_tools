{
 "cells": [
  {
   "cell_type": "code",
   "execution_count": 6,
   "metadata": {},
   "outputs": [],
   "source": [
    "# import tools\n",
    "from export_high_volumn import process_video as export_video\n",
    "from flip_and_gradient import process_video as add_gradient_and_flip"
   ]
  },
  {
   "cell_type": "code",
   "execution_count": 11,
   "metadata": {},
   "outputs": [],
   "source": [
    "raw_video = \"/mnt/disk2/tiktok_data/raw_vid/TK_quyenleodaily_2024.10.15_21-48-03_flv.mp4\""
   ]
  },
  {
   "cell_type": "code",
   "execution_count": null,
   "metadata": {},
   "outputs": [],
   "source": [
    "export_video(\n",
    "    raw_video,\n",
    "    top_percent = 0.1, \n",
    "    padding_start = 10000, \n",
    "    padding_end = 10000\n",
    ")"
   ]
  },
  {
   "cell_type": "code",
   "execution_count": 14,
   "metadata": {},
   "outputs": [],
   "source": [
    "import os\n",
    "chunk_dir = raw_video.replace(\"raw_vid\",\"processed_vid\").replace('.mp4',\"\")\n",
    "chunks_videos = os.listdir(chunk_dir)"
   ]
  },
  {
   "cell_type": "code",
   "execution_count": 17,
   "metadata": {},
   "outputs": [
    {
     "name": "stderr",
     "output_type": "stream",
     "text": [
      "chunk:   0%|          | 28/18762 [06:33<73:04:21, 14.04s/it, now=None]"
     ]
    },
    {
     "name": "stdout",
     "output_type": "stream",
     "text": [
      "Moviepy - Done !\n",
      "Moviepy - video ready /mnt/disk2/tiktok_data/processed_vid/TK_quyenleodaily_2024.10.15_21-48-03_flv/chunk_6gradient_fliped.mp4\n"
     ]
    }
   ],
   "source": [
    "# Example usage:\n",
    "for chunk_video in chunks_videos:\n",
    "  chunk_input_path = os.path.join(chunk_dir,chunk_video)\n",
    "  chunk_output_path = chunk_input_path.replace(\".mp4\",\"_gradient_fliped.mp4\")\n",
    "  add_gradient_and_flip(\n",
    "                chunk_input_path, \n",
    "                chunk_output_path,\n",
    "                gradient_color = (128, 113, 37), \n",
    "                row_percent = 0.25, \n",
    "                log_scale = 5\n",
    "              )\n",
    "  break"
   ]
  },
  {
   "cell_type": "code",
   "execution_count": null,
   "metadata": {},
   "outputs": [],
   "source": []
  }
 ],
 "metadata": {
  "kernelspec": {
   "display_name": "tiktok_env",
   "language": "python",
   "name": "python3"
  },
  "language_info": {
   "codemirror_mode": {
    "name": "ipython",
    "version": 3
   },
   "file_extension": ".py",
   "mimetype": "text/x-python",
   "name": "python",
   "nbconvert_exporter": "python",
   "pygments_lexer": "ipython3",
   "version": "3.12.7"
  }
 },
 "nbformat": 4,
 "nbformat_minor": 2
}
